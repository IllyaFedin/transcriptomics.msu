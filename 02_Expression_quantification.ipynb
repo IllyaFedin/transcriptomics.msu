{
  "cells": [
    {
      "cell_type": "markdown",
      "source": [
        "# Workshop #2. Expression quantification"
      ],
      "metadata": {
        "id": "P9qI5J1zktKQ"
      }
    },
    {
      "cell_type": "markdown",
      "source": [
        "Firstly, let's create set of transcripts with different elements that would generate reads with length equal to one letter. Also let's create some random number of each transcript's molecules."
      ],
      "metadata": {
        "id": "XMUoZHN2UY2N"
      }
    },
    {
      "cell_type": "code",
      "source": [
        "import random\n",
        "import numpy as np\n",
        "\n",
        "seed = 10\n",
        "\n",
        "transcripts = [\n",
        "    \"ABCDEZQ\",\n",
        "    \"DEFHI\",\n",
        "    \"GHIL\",\n",
        "    \"KLONPQST\",\n",
        "    \"PQRSTUW\",\n",
        "]\n",
        "\n",
        "random.seed(seed)\n",
        "n_molecules = [random.randint(30, 1000) for i in transcripts]\n",
        "abundance_ground_truth = np.array(\n",
        "    [n_molecules[i] / sum(n_molecules) for i in range(len(n_molecules))]\n",
        ")\n",
        "\n",
        "print(\"\\n\".join([\n",
        "    f\"{transcripts[i]}: {n_molecules[i]} ({(abundance_ground_truth[i] * 100):.2f}%)\"\n",
        "    for i in range(len(n_molecules))\n",
        "]))"
      ],
      "metadata": {
        "id": "PAqbWKzsk-JX",
        "colab": {
          "base_uri": "https://localhost:8080/"
        },
        "outputId": "dd42a8d1-f900-4e7e-e20e-e8eeab032cf2"
      },
      "execution_count": 1,
      "outputs": [
        {
          "output_type": "stream",
          "name": "stdout",
          "text": [
            "ABCDEZQ: 615 (26.83%)\n",
            "DEFHI: 63 (2.75%)\n",
            "GHIL: 469 (20.46%)\n",
            "KLONPQST: 524 (22.86%)\n",
            "PQRSTUW: 621 (27.09%)\n"
          ]
        }
      ]
    },
    {
      "cell_type": "markdown",
      "source": [
        "Next, let's generate random reads from these transcripts."
      ],
      "metadata": {
        "id": "e57w_AHxUzw4"
      }
    },
    {
      "cell_type": "code",
      "source": [
        "frac_reads = 0.1\n",
        "\n",
        "random.seed(seed)\n",
        "letters_pool = \"\".join([\n",
        "    transcripts[i] * n_molecules[i]\n",
        "    for i in range(len(transcripts))\n",
        "])\n",
        "reads = random.sample(letters_pool, int(frac_reads * len(letters_pool)))\n",
        "print(f\"We have {frac_reads * 100}% of transcripts in our pool ({len(reads)})\")"
      ],
      "metadata": {
        "colab": {
          "base_uri": "https://localhost:8080/"
        },
        "id": "DuO5CgHVUzAs",
        "outputId": "5f44ae5e-5cd5-4f45-def4-fab9b00c3baa"
      },
      "execution_count": 2,
      "outputs": [
        {
          "output_type": "stream",
          "name": "stdout",
          "text": [
            "We have 10.0% of transcripts in our pool (1503)\n"
          ]
        }
      ]
    },
    {
      "cell_type": "markdown",
      "source": [
        "So, let's continue with the EM algorithm to estimate original abundance of different transcripts."
      ],
      "metadata": {
        "id": "r8UAxif2XJsG"
      }
    },
    {
      "cell_type": "code",
      "source": [
        "def EM(transcripts, reads):\n",
        "  # Works for an example with k = 1 and read_length = 1 — the simplest case\n",
        "\n",
        "  length = np.array([len(i) for i in transcripts])\n",
        "  length_factors = length / min(length)\n",
        "\n",
        "  # Transcripts counts estimation\n",
        "  def expectation(transcripts, reads, abundance):\n",
        "    counts = np.zeros(len(transcripts))\n",
        "    for i, read in enumerate(reads):\n",
        "      equivalence_class = np.array([\n",
        "          read in transcript for transcript in transcripts\n",
        "      ]) # From which transcript our read might be?\n",
        "      counts[equivalence_class] += (\n",
        "          abundance[equivalence_class] / sum(abundance[equivalence_class])\n",
        "      ) # Add fraction of the read to the transcripts according their abundances\n",
        "\n",
        "    counts = np.round(counts, 3)\n",
        "    return counts\n",
        "\n",
        "  # Abundances maximization\n",
        "  def maximization(counts, length_factors):\n",
        "    abundance = (counts / sum(counts)) / length_factors # Taking into account\n",
        "    # length factor\n",
        "    abundance = abundance / sum(abundance)\n",
        "    return abundance\n",
        "\n",
        "  # Initianion\n",
        "  abundance = np.ones(len(transcripts)) / len(transcripts) # Equal amount\n",
        "  counts = expectation(transcripts, reads, abundance)\n",
        "\n",
        "  # EM steps\n",
        "  prev_counts = np.zeros(len(transcripts))\n",
        "  step = 0\n",
        "  while list(prev_counts) != list(counts): # Until convergence\n",
        "    step += 1\n",
        "    prev_counts = counts.copy()\n",
        "    abundance = maximization(counts, length_factors)\n",
        "    counts = expectation(transcripts, reads, abundance)\n",
        "\n",
        "  return (abundance, counts, step)"
      ],
      "metadata": {
        "id": "9I_wGUIEV949"
      },
      "execution_count": 3,
      "outputs": []
    },
    {
      "cell_type": "markdown",
      "source": [
        "And let's test our algorithm!"
      ],
      "metadata": {
        "id": "l656yMvde5I_"
      }
    },
    {
      "cell_type": "code",
      "source": [
        "abundance, counts, step = EM(transcripts, reads)\n",
        "\n",
        "print(\"Differences in abundance (in %):\")\n",
        "print((abundance - abundance_ground_truth) * 100)"
      ],
      "metadata": {
        "colab": {
          "base_uri": "https://localhost:8080/"
        },
        "id": "Pv3RMEY4bCln",
        "outputId": "0a74dd65-286c-4851-b7ac-6988737b0377"
      },
      "execution_count": 4,
      "outputs": [
        {
          "output_type": "stream",
          "name": "stdout",
          "text": [
            "Differences in abundance (in %):\n",
            "[-0.30047529 -1.00559749 -0.57102735  1.21407655  0.66302358]\n"
          ]
        }
      ]
    },
    {
      "cell_type": "markdown",
      "source": [
        "And now, let's try to do the same calculation with `kallisto`. At the beginning, let's generate pseudo-transcripts and pseudo-reads."
      ],
      "metadata": {
        "id": "M9Wtewb-g2yU"
      }
    },
    {
      "cell_type": "code",
      "source": [
        "read_length = 50\n",
        "\n",
        "random.seed(seed)\n",
        "blocks_sequences = dict(zip(set(\"\".join(transcripts)), [\n",
        "    \"\".join([np.random.choice(list(\"ATGC\")) for i in range(read_length)])\n",
        "    for j in set(\"\".join(transcripts))\n",
        "]))\n",
        "\n",
        "transcript_sequences = dict(zip(transcripts, [\n",
        "    \"\".join([\n",
        "        blocks_sequences[block] for block in transcript\n",
        "    ]) for transcript in transcripts\n",
        "]))\n",
        "\n",
        "with open(\"reference.fasta\", \"w\") as f:\n",
        "  for transcript in transcript_sequences:\n",
        "    f.write(f\">{transcript}\\n{transcript_sequences[transcript]}\\n\")\n",
        "\n",
        "with open(\"reads.fastq\", \"w\") as f:\n",
        "  for i, read in enumerate(reads):\n",
        "    f.write(f\"@Read_{i}\\n{blocks_sequences[read]}\\n+\\n{'I' * read_length}\\n\")"
      ],
      "metadata": {
        "id": "a5rJh6hGfYOK"
      },
      "execution_count": 5,
      "outputs": []
    },
    {
      "cell_type": "markdown",
      "source": [
        "And let's launch `kallisto`. Firstly, let's install the tool."
      ],
      "metadata": {
        "id": "siJxU2f1jnh4"
      }
    },
    {
      "cell_type": "code",
      "source": [
        "!git clone https://github.com/pachterlab/kallisto.git\n",
        "!apt-get install autoconf\n",
        "!cd kallisto && mkdir build && cd build && cmake .. && make"
      ],
      "metadata": {
        "id": "wpJkjS6lhEVQ",
        "colab": {
          "base_uri": "https://localhost:8080/"
        },
        "outputId": "6bfcae26-13cc-4959-bad9-7ac3010ae260"
      },
      "execution_count": 6,
      "outputs": [
        {
          "output_type": "stream",
          "name": "stdout",
          "text": [
            "Cloning into 'kallisto'...\n",
            "remote: Enumerating objects: 8586, done.\u001b[K\n",
            "remote: Counting objects: 100% (1602/1602), done.\u001b[K\n",
            "remote: Compressing objects: 100% (543/543), done.\u001b[K\n",
            "remote: Total 8586 (delta 1174), reused 1302 (delta 1057), pack-reused 6984\u001b[K\n",
            "Receiving objects: 100% (8586/8586), 9.29 MiB | 14.68 MiB/s, done.\n",
            "Resolving deltas: 100% (5692/5692), done.\n",
            "Reading package lists... Done\n",
            "Building dependency tree... Done\n",
            "Reading state information... Done\n",
            "autoconf is already the newest version (2.71-2).\n",
            "autoconf set to manually installed.\n",
            "0 upgraded, 0 newly installed, 0 to remove and 45 not upgraded.\n",
            "\u001b[0mCMake Deprecation Warning at CMakeLists.txt:1 (cmake_minimum_required):\n",
            "  Compatibility with CMake < 3.5 will be removed from a future version of\n",
            "  CMake.\n",
            "\n",
            "  Update the VERSION argument <min> value or use a ...<max> suffix to tell\n",
            "  CMake that the project does not need compatibility with older versions.\n",
            "\n",
            "\u001b[0m\n",
            "-- The C compiler identification is GNU 11.4.0\n",
            "-- The CXX compiler identification is GNU 11.4.0\n",
            "-- Detecting C compiler ABI info\n",
            "-- Detecting C compiler ABI info - done\n",
            "-- Check for working C compiler: /usr/bin/cc - skipped\n",
            "-- Detecting C compile features\n",
            "-- Detecting C compile features - done\n",
            "-- Detecting CXX compiler ABI info\n",
            "-- Detecting CXX compiler ABI info - done\n",
            "-- Check for working CXX compiler: /usr/bin/c++ - skipped\n",
            "-- Detecting CXX compile features\n",
            "-- Detecting CXX compile features - done\n",
            "-- Performing Test COMPILER_SUPPORTS_CXX17\n",
            "-- Performing Test COMPILER_SUPPORTS_CXX17 - Success\n",
            "\u001b[0mshared build\u001b[0m\n",
            "-- Performing Test CMAKE_HAVE_LIBC_PTHREAD\n",
            "-- Performing Test CMAKE_HAVE_LIBC_PTHREAD - Success\n",
            "-- Found Threads: TRUE  \n",
            "-- Found ZLIB: /usr/lib/x86_64-linux-gnu/libz.so (found version \"1.2.11\")  \n",
            "-- Configuring done (2.1s)\n",
            "-- Generating done (0.0s)\n",
            "-- Build files have been written to: /content/kallisto/build\n",
            "[  3%] \u001b[34m\u001b[1mCreating directories for 'bifrost'\u001b[0m\n",
            "[  7%] \u001b[34m\u001b[1mNo download step for 'bifrost'\u001b[0m\n",
            "[ 11%] \u001b[34m\u001b[1mNo update step for 'bifrost'\u001b[0m\n",
            "[ 15%] \u001b[34m\u001b[1mNo patch step for 'bifrost'\u001b[0m\n",
            "[ 19%] \u001b[34m\u001b[1mPerforming configure step for 'bifrost'\u001b[0m\n",
            "\u001b[0mCMake Deprecation Warning at CMakeLists.txt:1 (cmake_minimum_required):\n",
            "  Compatibility with CMake < 3.5 will be removed from a future version of\n",
            "  CMake.\n",
            "\n",
            "  Update the VERSION argument <min> value or use a ...<max> suffix to tell\n",
            "  CMake that the project does not need compatibility with older versions.\n",
            "\n",
            "\u001b[0m\n",
            "-- The C compiler identification is GNU 11.4.0\n",
            "-- The CXX compiler identification is GNU 11.4.0\n",
            "-- Detecting C compiler ABI info\n",
            "-- Detecting C compiler ABI info - done\n",
            "-- Check for working C compiler: /usr/bin/cc - skipped\n",
            "-- Detecting C compile features\n",
            "-- Detecting C compile features - done\n",
            "-- Detecting CXX compiler ABI info\n",
            "-- Detecting CXX compiler ABI info - done\n",
            "-- Check for working CXX compiler: /usr/bin/c++ - skipped\n",
            "-- Detecting CXX compile features\n",
            "-- Detecting CXX compile features - done\n",
            "-- Performing Test CMAKE_HAVE_LIBC_PTHREAD\n",
            "-- Performing Test CMAKE_HAVE_LIBC_PTHREAD - Success\n",
            "-- Found Threads: TRUE  \n",
            "\u001b[0mCompilation architecture: native\u001b[0m\n",
            "\u001b[0mBuild type: Release\u001b[0m\n",
            "\u001b[0mMaximum k-mer size: 31\u001b[0m\n",
            "\u001b[0mMaximum g-mer size: 31\u001b[0m\n",
            "-- Found ZLIB: /usr/lib/x86_64-linux-gnu/libz.so (found version \"1.2.11\")  \n",
            "-- Configuring done (1.9s)\n",
            "-- Generating done (0.0s)\n",
            "-- Build files have been written to: /content/kallisto/ext/bifrost/build\n",
            "[ 23%] \u001b[34m\u001b[1mPerforming build step for 'bifrost'\u001b[0m\n",
            "[  3%] \u001b[32mBuilding CXX object src/CMakeFiles/bifrost_static.dir/Bifrost.cpp.o\u001b[0m\n",
            "[  6%] \u001b[32mBuilding CXX object src/CMakeFiles/bifrost_static.dir/BitContainer.cpp.o\u001b[0m\n",
            "[  9%] \u001b[32mBuilding CXX object src/CMakeFiles/bifrost_static.dir/BlockedBloomFilter.cpp.o\u001b[0m\n",
            "[ 12%] \u001b[32mBuilding CXX object src/CMakeFiles/bifrost_static.dir/ColorSet.cpp.o\u001b[0m\n",
            "[ 15%] \u001b[32mBuilding CXX object src/CMakeFiles/bifrost_static.dir/CompressedCoverage.cpp.o\u001b[0m\n",
            "[ 18%] \u001b[32mBuilding CXX object src/CMakeFiles/bifrost_static.dir/CompressedSequence.cpp.o\u001b[0m\n",
            "[ 21%] \u001b[32mBuilding CXX object src/CMakeFiles/bifrost_static.dir/FASTX_Parser.cpp.o\u001b[0m\n",
            "[ 25%] \u001b[32mBuilding CXX object src/CMakeFiles/bifrost_static.dir/GFA_Parser.cpp.o\u001b[0m\n",
            "[ 28%] \u001b[32mBuilding CXX object src/CMakeFiles/bifrost_static.dir/Kmer.cpp.o\u001b[0m\n",
            "[ 31%] \u001b[32mBuilding CXX object src/CMakeFiles/bifrost_static.dir/KmerIterator.cpp.o\u001b[0m\n",
            "[ 34%] \u001b[32mBuilding CXX object src/CMakeFiles/bifrost_static.dir/MinimizerIndex.cpp.o\u001b[0m\n",
            "[ 37%] \u001b[32mBuilding CXX object src/CMakeFiles/bifrost_static.dir/TinyBitmap.cpp.o\u001b[0m\n",
            "[ 40%] \u001b[32mBuilding CXX object src/CMakeFiles/bifrost_static.dir/UnitigMap.cpp.o\u001b[0m\n",
            "[ 43%] \u001b[32mBuilding C object src/CMakeFiles/bifrost_static.dir/roaring.c.o\u001b[0m\n",
            "[ 46%] \u001b[32m\u001b[1mLinking CXX static library libbifrost.a\u001b[0m\n",
            "[ 46%] Built target bifrost_static\n",
            "[ 50%] \u001b[32mBuilding CXX object src/CMakeFiles/bifrost_dynamic.dir/Bifrost.cpp.o\u001b[0m\n",
            "[ 53%] \u001b[32mBuilding CXX object src/CMakeFiles/bifrost_dynamic.dir/BitContainer.cpp.o\u001b[0m\n",
            "[ 56%] \u001b[32mBuilding CXX object src/CMakeFiles/bifrost_dynamic.dir/BlockedBloomFilter.cpp.o\u001b[0m\n",
            "[ 59%] \u001b[32mBuilding CXX object src/CMakeFiles/bifrost_dynamic.dir/ColorSet.cpp.o\u001b[0m\n",
            "[ 62%] \u001b[32mBuilding CXX object src/CMakeFiles/bifrost_dynamic.dir/CompressedCoverage.cpp.o\u001b[0m\n",
            "[ 65%] \u001b[32mBuilding CXX object src/CMakeFiles/bifrost_dynamic.dir/CompressedSequence.cpp.o\u001b[0m\n",
            "[ 68%] \u001b[32mBuilding CXX object src/CMakeFiles/bifrost_dynamic.dir/FASTX_Parser.cpp.o\u001b[0m\n",
            "[ 71%] \u001b[32mBuilding CXX object src/CMakeFiles/bifrost_dynamic.dir/GFA_Parser.cpp.o\u001b[0m\n",
            "[ 75%] \u001b[32mBuilding CXX object src/CMakeFiles/bifrost_dynamic.dir/Kmer.cpp.o\u001b[0m\n",
            "[ 78%] \u001b[32mBuilding CXX object src/CMakeFiles/bifrost_dynamic.dir/KmerIterator.cpp.o\u001b[0m\n",
            "[ 81%] \u001b[32mBuilding CXX object src/CMakeFiles/bifrost_dynamic.dir/MinimizerIndex.cpp.o\u001b[0m\n",
            "[ 84%] \u001b[32mBuilding CXX object src/CMakeFiles/bifrost_dynamic.dir/TinyBitmap.cpp.o\u001b[0m\n",
            "[ 87%] \u001b[32mBuilding CXX object src/CMakeFiles/bifrost_dynamic.dir/UnitigMap.cpp.o\u001b[0m\n",
            "[ 90%] \u001b[32mBuilding C object src/CMakeFiles/bifrost_dynamic.dir/roaring.c.o\u001b[0m\n",
            "[ 93%] \u001b[32m\u001b[1mLinking CXX shared library libbifrost.so\u001b[0m\n",
            "[ 93%] Built target bifrost_dynamic\n",
            "[ 96%] \u001b[32mBuilding CXX object src/CMakeFiles/Bifrost.dir/Bifrost.cpp.o\u001b[0m\n",
            "[100%] \u001b[32m\u001b[1mLinking CXX executable Bifrost\u001b[0m\n",
            "[100%] Built target Bifrost\n",
            "[ 26%] \u001b[34m\u001b[1mNo install step for 'bifrost'\u001b[0m\n",
            "[ 30%] \u001b[34m\u001b[1mCompleted 'bifrost'\u001b[0m\n",
            "[ 30%] Built target bifrost\n",
            "[ 34%] \u001b[32mBuilding CXX object src/CMakeFiles/kallisto_core.dir/BUSData.cpp.o\u001b[0m\n",
            "[ 38%] \u001b[32mBuilding CXX object src/CMakeFiles/kallisto_core.dir/BUSTools.cpp.o\u001b[0m\n",
            "[ 42%] \u001b[32mBuilding CXX object src/CMakeFiles/kallisto_core.dir/Bootstrap.cpp.o\u001b[0m\n",
            "[ 46%] \u001b[32mBuilding CXX object src/CMakeFiles/kallisto_core.dir/GeneModel.cpp.o\u001b[0m\n",
            "[ 50%] \u001b[32mBuilding CXX object src/CMakeFiles/kallisto_core.dir/H5Writer.cpp.o\u001b[0m\n",
            "[ 53%] \u001b[32mBuilding CXX object src/CMakeFiles/kallisto_core.dir/KmerIndex.cpp.o\u001b[0m\n",
            "[ 57%] \u001b[32mBuilding CXX object src/CMakeFiles/kallisto_core.dir/MinCollector.cpp.o\u001b[0m\n",
            "[ 61%] \u001b[32mBuilding CXX object src/CMakeFiles/kallisto_core.dir/PlaintextWriter.cpp.o\u001b[0m\n",
            "[ 65%] \u001b[32mBuilding CXX object src/CMakeFiles/kallisto_core.dir/ProcessReads.cpp.o\u001b[0m\n",
            "[ 69%] \u001b[32mBuilding CXX object src/CMakeFiles/kallisto_core.dir/PseudoBam.cpp.o\u001b[0m\n",
            "[ 73%] \u001b[32mBuilding CXX object src/CMakeFiles/kallisto_core.dir/common.cpp.o\u001b[0m\n",
            "[ 76%] \u001b[32mBuilding CXX object src/CMakeFiles/kallisto_core.dir/h5utils.cpp.o\u001b[0m\n",
            "[ 80%] \u001b[32mBuilding CXX object src/CMakeFiles/kallisto_core.dir/hash.cpp.o\u001b[0m\n",
            "[ 84%] \u001b[32mBuilding CXX object src/CMakeFiles/kallisto_core.dir/main.cpp.o\u001b[0m\n",
            "[ 88%] \u001b[32mBuilding CXX object src/CMakeFiles/kallisto_core.dir/weights.cpp.o\u001b[0m\n",
            "[ 92%] \u001b[32m\u001b[1mLinking CXX static library libkallisto_core.a\u001b[0m\n",
            "[ 92%] Built target kallisto_core\n",
            "[ 96%] \u001b[32mBuilding CXX object src/CMakeFiles/kallisto.dir/main.cpp.o\u001b[0m\n",
            "[100%] \u001b[32m\u001b[1mLinking CXX executable kallisto\u001b[0m\n",
            "[100%] Built target kallisto\n"
          ]
        }
      ]
    },
    {
      "cell_type": "markdown",
      "source": [
        "Second, let's generate the reference index."
      ],
      "metadata": {
        "id": "d87hS97nkFfV"
      }
    },
    {
      "cell_type": "code",
      "source": [
        "!./kallisto/build/src/kallisto index -i reference.idx reference.fasta"
      ],
      "metadata": {
        "id": "XBJo76IvhRkZ",
        "colab": {
          "base_uri": "https://localhost:8080/"
        },
        "outputId": "ea436a3a-e20c-42ee-cfff-6c1621781f1d"
      },
      "execution_count": 7,
      "outputs": [
        {
          "output_type": "stream",
          "name": "stdout",
          "text": [
            "\n",
            "[build] loading fasta file reference.fasta\n",
            "[build] k-mer length: 31\n",
            "KmerStream::KmerStream(): Start computing k-mer cardinality estimations (1/2)\n",
            "KmerStream::KmerStream(): Start computing k-mer cardinality estimations (1/2)\n",
            "KmerStream::KmerStream(): Finished\n",
            "CompactedDBG::build(): Estimated number of k-mers occurring at least once: 1090\n",
            "CompactedDBG::build(): Estimated number of minimizer occurring at least once: 288\n",
            "CompactedDBG::filter(): Processed 1400 k-mers in 5 reads\n",
            "CompactedDBG::filter(): Found 1079 unique k-mers\n",
            "CompactedDBG::filter(): Number of blocks in Bloom filter is 9\n",
            "CompactedDBG::construct(): Extract approximate unitigs (1/2)\n",
            "CompactedDBG::construct(): Extract approximate unitigs (2/2)\n",
            "CompactedDBG::construct(): Closed all input files\n",
            "\n",
            "CompactedDBG::construct(): Splitting unitigs (1/2)\n",
            "\n",
            "CompactedDBG::construct(): Splitting unitigs (2/2)\n",
            "CompactedDBG::construct(): Before split: 12 unitigs\n",
            "CompactedDBG::construct(): After split (1/1): 12 unitigs\n",
            "CompactedDBG::construct(): Unitigs split: 0\n",
            "CompactedDBG::construct(): Unitigs deleted: 0\n",
            "\n",
            "CompactedDBG::construct(): Joining unitigs\n",
            "CompactedDBG::construct(): After join: 11 unitigs\n",
            "CompactedDBG::construct(): Joined 1 unitigs\n",
            "[build] building MPHF\n",
            "[build] creating equivalence classes ... \n",
            "[build] target de Bruijn graph has k-mer length 31 and minimizer length 23\n",
            "[build] target de Bruijn graph has 11 contigs and contains 1080 k-mers \n",
            "\n"
          ]
        }
      ]
    },
    {
      "cell_type": "markdown",
      "source": [
        "After, let's estimate abundances."
      ],
      "metadata": {
        "id": "XF7ntLrwkqUg"
      }
    },
    {
      "cell_type": "code",
      "source": [
        "!./kallisto/build/src/kallisto quant -i reference.idx -o results --single -l 50 -s 1 reads.fastq"
      ],
      "metadata": {
        "id": "yBaVVbO4kunq",
        "colab": {
          "base_uri": "https://localhost:8080/"
        },
        "outputId": "9a5ca6b1-e79e-4044-c37a-0347ee81301b"
      },
      "execution_count": 8,
      "outputs": [
        {
          "output_type": "stream",
          "name": "stdout",
          "text": [
            "\n",
            "[quant] fragment length distribution is truncated gaussian with mean = 50, sd = 1\n",
            "[index] k-mer length: 31\n",
            "[index] number of targets: 5\n",
            "[index] number of k-mers: 1,080\n",
            "[quant] running in single-end mode\n",
            "[quant] will process file 1: reads.fastq\n",
            "[quant] finding pseudoalignments for the reads ... done\n",
            "[quant] processed 1,503 reads, 1,426 reads pseudoaligned\n",
            "[   em] quantifying the abundances ... done\n",
            "[   em] the Expectation-Maximization algorithm ran for 52 rounds\n",
            "\n"
          ]
        }
      ]
    },
    {
      "cell_type": "markdown",
      "source": [
        "And finally, let's compare the results."
      ],
      "metadata": {
        "id": "em4pJsermcK9"
      }
    },
    {
      "cell_type": "code",
      "source": [
        "import pandas as pd\n",
        "\n",
        "kallisto_results = pd.read_csv(\"results/abundance.tsv\", sep=\"\\t\")\n",
        "kallisto_abundances = kallisto_results.tpm / kallisto_results.tpm.sum()\n",
        "\n",
        "pd.DataFrame({\n",
        "    \"Difference true — kallisto (%)\": list((abundance_ground_truth - kallisto_abundances) * 100),\n",
        "    \"Difference true — our (%)\": list((abundance_ground_truth - abundance) * 100)\n",
        "}, index=transcript_sequences.keys())"
      ],
      "metadata": {
        "colab": {
          "base_uri": "https://localhost:8080/",
          "height": 206
        },
        "id": "0NG0eMxJlDOW",
        "outputId": "47d2c5fa-232c-445d-f431-2ca8d1bc8efc"
      },
      "execution_count": 9,
      "outputs": [
        {
          "output_type": "execute_result",
          "data": {
            "text/plain": [
              "          Difference true — kallisto (%)  Difference true — our (%)\n",
              "ABCDEZQ                         2.508253                   0.300475\n",
              "DEFHI                           1.397121                   1.005597\n",
              "GHIL                            1.836073                   0.571027\n",
              "KLONPQST                       -3.345079                  -1.214077\n",
              "PQRSTUW                        -2.396368                  -0.663024"
            ],
            "text/html": [
              "\n",
              "  <div id=\"df-7482b96c-408e-4dfb-8959-91d3ed10a1da\" class=\"colab-df-container\">\n",
              "    <div>\n",
              "<style scoped>\n",
              "    .dataframe tbody tr th:only-of-type {\n",
              "        vertical-align: middle;\n",
              "    }\n",
              "\n",
              "    .dataframe tbody tr th {\n",
              "        vertical-align: top;\n",
              "    }\n",
              "\n",
              "    .dataframe thead th {\n",
              "        text-align: right;\n",
              "    }\n",
              "</style>\n",
              "<table border=\"1\" class=\"dataframe\">\n",
              "  <thead>\n",
              "    <tr style=\"text-align: right;\">\n",
              "      <th></th>\n",
              "      <th>Difference true — kallisto (%)</th>\n",
              "      <th>Difference true — our (%)</th>\n",
              "    </tr>\n",
              "  </thead>\n",
              "  <tbody>\n",
              "    <tr>\n",
              "      <th>ABCDEZQ</th>\n",
              "      <td>2.508253</td>\n",
              "      <td>0.300475</td>\n",
              "    </tr>\n",
              "    <tr>\n",
              "      <th>DEFHI</th>\n",
              "      <td>1.397121</td>\n",
              "      <td>1.005597</td>\n",
              "    </tr>\n",
              "    <tr>\n",
              "      <th>GHIL</th>\n",
              "      <td>1.836073</td>\n",
              "      <td>0.571027</td>\n",
              "    </tr>\n",
              "    <tr>\n",
              "      <th>KLONPQST</th>\n",
              "      <td>-3.345079</td>\n",
              "      <td>-1.214077</td>\n",
              "    </tr>\n",
              "    <tr>\n",
              "      <th>PQRSTUW</th>\n",
              "      <td>-2.396368</td>\n",
              "      <td>-0.663024</td>\n",
              "    </tr>\n",
              "  </tbody>\n",
              "</table>\n",
              "</div>\n",
              "    <div class=\"colab-df-buttons\">\n",
              "\n",
              "  <div class=\"colab-df-container\">\n",
              "    <button class=\"colab-df-convert\" onclick=\"convertToInteractive('df-7482b96c-408e-4dfb-8959-91d3ed10a1da')\"\n",
              "            title=\"Convert this dataframe to an interactive table.\"\n",
              "            style=\"display:none;\">\n",
              "\n",
              "  <svg xmlns=\"http://www.w3.org/2000/svg\" height=\"24px\" viewBox=\"0 -960 960 960\">\n",
              "    <path d=\"M120-120v-720h720v720H120Zm60-500h600v-160H180v160Zm220 220h160v-160H400v160Zm0 220h160v-160H400v160ZM180-400h160v-160H180v160Zm440 0h160v-160H620v160ZM180-180h160v-160H180v160Zm440 0h160v-160H620v160Z\"/>\n",
              "  </svg>\n",
              "    </button>\n",
              "\n",
              "  <style>\n",
              "    .colab-df-container {\n",
              "      display:flex;\n",
              "      gap: 12px;\n",
              "    }\n",
              "\n",
              "    .colab-df-convert {\n",
              "      background-color: #E8F0FE;\n",
              "      border: none;\n",
              "      border-radius: 50%;\n",
              "      cursor: pointer;\n",
              "      display: none;\n",
              "      fill: #1967D2;\n",
              "      height: 32px;\n",
              "      padding: 0 0 0 0;\n",
              "      width: 32px;\n",
              "    }\n",
              "\n",
              "    .colab-df-convert:hover {\n",
              "      background-color: #E2EBFA;\n",
              "      box-shadow: 0px 1px 2px rgba(60, 64, 67, 0.3), 0px 1px 3px 1px rgba(60, 64, 67, 0.15);\n",
              "      fill: #174EA6;\n",
              "    }\n",
              "\n",
              "    .colab-df-buttons div {\n",
              "      margin-bottom: 4px;\n",
              "    }\n",
              "\n",
              "    [theme=dark] .colab-df-convert {\n",
              "      background-color: #3B4455;\n",
              "      fill: #D2E3FC;\n",
              "    }\n",
              "\n",
              "    [theme=dark] .colab-df-convert:hover {\n",
              "      background-color: #434B5C;\n",
              "      box-shadow: 0px 1px 3px 1px rgba(0, 0, 0, 0.15);\n",
              "      filter: drop-shadow(0px 1px 2px rgba(0, 0, 0, 0.3));\n",
              "      fill: #FFFFFF;\n",
              "    }\n",
              "  </style>\n",
              "\n",
              "    <script>\n",
              "      const buttonEl =\n",
              "        document.querySelector('#df-7482b96c-408e-4dfb-8959-91d3ed10a1da button.colab-df-convert');\n",
              "      buttonEl.style.display =\n",
              "        google.colab.kernel.accessAllowed ? 'block' : 'none';\n",
              "\n",
              "      async function convertToInteractive(key) {\n",
              "        const element = document.querySelector('#df-7482b96c-408e-4dfb-8959-91d3ed10a1da');\n",
              "        const dataTable =\n",
              "          await google.colab.kernel.invokeFunction('convertToInteractive',\n",
              "                                                    [key], {});\n",
              "        if (!dataTable) return;\n",
              "\n",
              "        const docLinkHtml = 'Like what you see? Visit the ' +\n",
              "          '<a target=\"_blank\" href=https://colab.research.google.com/notebooks/data_table.ipynb>data table notebook</a>'\n",
              "          + ' to learn more about interactive tables.';\n",
              "        element.innerHTML = '';\n",
              "        dataTable['output_type'] = 'display_data';\n",
              "        await google.colab.output.renderOutput(dataTable, element);\n",
              "        const docLink = document.createElement('div');\n",
              "        docLink.innerHTML = docLinkHtml;\n",
              "        element.appendChild(docLink);\n",
              "      }\n",
              "    </script>\n",
              "  </div>\n",
              "\n",
              "\n",
              "<div id=\"df-a3765bd3-18eb-40fd-ab55-4c2ef7f03fc7\">\n",
              "  <button class=\"colab-df-quickchart\" onclick=\"quickchart('df-a3765bd3-18eb-40fd-ab55-4c2ef7f03fc7')\"\n",
              "            title=\"Suggest charts\"\n",
              "            style=\"display:none;\">\n",
              "\n",
              "<svg xmlns=\"http://www.w3.org/2000/svg\" height=\"24px\"viewBox=\"0 0 24 24\"\n",
              "     width=\"24px\">\n",
              "    <g>\n",
              "        <path d=\"M19 3H5c-1.1 0-2 .9-2 2v14c0 1.1.9 2 2 2h14c1.1 0 2-.9 2-2V5c0-1.1-.9-2-2-2zM9 17H7v-7h2v7zm4 0h-2V7h2v10zm4 0h-2v-4h2v4z\"/>\n",
              "    </g>\n",
              "</svg>\n",
              "  </button>\n",
              "\n",
              "<style>\n",
              "  .colab-df-quickchart {\n",
              "      --bg-color: #E8F0FE;\n",
              "      --fill-color: #1967D2;\n",
              "      --hover-bg-color: #E2EBFA;\n",
              "      --hover-fill-color: #174EA6;\n",
              "      --disabled-fill-color: #AAA;\n",
              "      --disabled-bg-color: #DDD;\n",
              "  }\n",
              "\n",
              "  [theme=dark] .colab-df-quickchart {\n",
              "      --bg-color: #3B4455;\n",
              "      --fill-color: #D2E3FC;\n",
              "      --hover-bg-color: #434B5C;\n",
              "      --hover-fill-color: #FFFFFF;\n",
              "      --disabled-bg-color: #3B4455;\n",
              "      --disabled-fill-color: #666;\n",
              "  }\n",
              "\n",
              "  .colab-df-quickchart {\n",
              "    background-color: var(--bg-color);\n",
              "    border: none;\n",
              "    border-radius: 50%;\n",
              "    cursor: pointer;\n",
              "    display: none;\n",
              "    fill: var(--fill-color);\n",
              "    height: 32px;\n",
              "    padding: 0;\n",
              "    width: 32px;\n",
              "  }\n",
              "\n",
              "  .colab-df-quickchart:hover {\n",
              "    background-color: var(--hover-bg-color);\n",
              "    box-shadow: 0 1px 2px rgba(60, 64, 67, 0.3), 0 1px 3px 1px rgba(60, 64, 67, 0.15);\n",
              "    fill: var(--button-hover-fill-color);\n",
              "  }\n",
              "\n",
              "  .colab-df-quickchart-complete:disabled,\n",
              "  .colab-df-quickchart-complete:disabled:hover {\n",
              "    background-color: var(--disabled-bg-color);\n",
              "    fill: var(--disabled-fill-color);\n",
              "    box-shadow: none;\n",
              "  }\n",
              "\n",
              "  .colab-df-spinner {\n",
              "    border: 2px solid var(--fill-color);\n",
              "    border-color: transparent;\n",
              "    border-bottom-color: var(--fill-color);\n",
              "    animation:\n",
              "      spin 1s steps(1) infinite;\n",
              "  }\n",
              "\n",
              "  @keyframes spin {\n",
              "    0% {\n",
              "      border-color: transparent;\n",
              "      border-bottom-color: var(--fill-color);\n",
              "      border-left-color: var(--fill-color);\n",
              "    }\n",
              "    20% {\n",
              "      border-color: transparent;\n",
              "      border-left-color: var(--fill-color);\n",
              "      border-top-color: var(--fill-color);\n",
              "    }\n",
              "    30% {\n",
              "      border-color: transparent;\n",
              "      border-left-color: var(--fill-color);\n",
              "      border-top-color: var(--fill-color);\n",
              "      border-right-color: var(--fill-color);\n",
              "    }\n",
              "    40% {\n",
              "      border-color: transparent;\n",
              "      border-right-color: var(--fill-color);\n",
              "      border-top-color: var(--fill-color);\n",
              "    }\n",
              "    60% {\n",
              "      border-color: transparent;\n",
              "      border-right-color: var(--fill-color);\n",
              "    }\n",
              "    80% {\n",
              "      border-color: transparent;\n",
              "      border-right-color: var(--fill-color);\n",
              "      border-bottom-color: var(--fill-color);\n",
              "    }\n",
              "    90% {\n",
              "      border-color: transparent;\n",
              "      border-bottom-color: var(--fill-color);\n",
              "    }\n",
              "  }\n",
              "</style>\n",
              "\n",
              "  <script>\n",
              "    async function quickchart(key) {\n",
              "      const quickchartButtonEl =\n",
              "        document.querySelector('#' + key + ' button');\n",
              "      quickchartButtonEl.disabled = true;  // To prevent multiple clicks.\n",
              "      quickchartButtonEl.classList.add('colab-df-spinner');\n",
              "      try {\n",
              "        const charts = await google.colab.kernel.invokeFunction(\n",
              "            'suggestCharts', [key], {});\n",
              "      } catch (error) {\n",
              "        console.error('Error during call to suggestCharts:', error);\n",
              "      }\n",
              "      quickchartButtonEl.classList.remove('colab-df-spinner');\n",
              "      quickchartButtonEl.classList.add('colab-df-quickchart-complete');\n",
              "    }\n",
              "    (() => {\n",
              "      let quickchartButtonEl =\n",
              "        document.querySelector('#df-a3765bd3-18eb-40fd-ab55-4c2ef7f03fc7 button');\n",
              "      quickchartButtonEl.style.display =\n",
              "        google.colab.kernel.accessAllowed ? 'block' : 'none';\n",
              "    })();\n",
              "  </script>\n",
              "</div>\n",
              "    </div>\n",
              "  </div>\n"
            ],
            "application/vnd.google.colaboratory.intrinsic+json": {
              "type": "dataframe",
              "summary": "{\n  \"name\": \"}, index=transcript_sequences\",\n  \"rows\": 5,\n  \"fields\": [\n    {\n      \"column\": \"Difference true \\u2014 kallisto (%)\",\n      \"properties\": {\n        \"dtype\": \"number\",\n        \"std\": 2.6714497644085466,\n        \"min\": -3.3450787173106984,\n        \"max\": 2.508253435722102,\n        \"num_unique_values\": 5,\n        \"samples\": [\n          1.397120694005318,\n          -2.396368009486316,\n          1.8360725970695961\n        ],\n        \"semantic_type\": \"\",\n        \"description\": \"\"\n      }\n    },\n    {\n      \"column\": \"Difference true \\u2014 our (%)\",\n      \"properties\": {\n        \"dtype\": \"number\",\n        \"std\": 0.9139428411037953,\n        \"min\": -1.2140765484238898,\n        \"max\": 1.005597486796671,\n        \"num_unique_values\": 5,\n        \"samples\": [\n          1.005597486796671,\n          -0.6630235770189841,\n          0.5710273483677419\n        ],\n        \"semantic_type\": \"\",\n        \"description\": \"\"\n      }\n    }\n  ]\n}"
            }
          },
          "metadata": {},
          "execution_count": 9
        }
      ]
    },
    {
      "cell_type": "markdown",
      "source": [
        "# Hometask"
      ],
      "metadata": {
        "id": "_AasoLPNCR1c"
      }
    },
    {
      "cell_type": "markdown",
      "source": [
        "## Task 1\n",
        "\n",
        "Please, provide an example where even EM-based algorithm estimates expression wrong. Describe in which exact cases it might happens."
      ],
      "metadata": {
        "id": "YH6-wgQaq8q4"
      }
    },
    {
      "cell_type": "markdown",
      "source": [
        "Where EM Can Go Wrong\n",
        "\n",
        "1. Initialization Sensitivity: The starting values of the parameters (the initial guess) can significantly influence the final estimates.  A poor initial guess might lead the algorithm to a local maximum, rather than the global maximum, of the likelihood function.\n",
        "\n",
        "2. Non-Identifiability: If the model is not identifiable, meaning multiple parameter combinations can produce the same observed data, EM may not converge to the \"true\" values. This can occur when there are more parameters than observed data points or when the model has strong dependencies between variables.\n",
        "\n",
        "3. Local Maxima: The likelihood function may have multiple local maxima. EM will converge to one of these maxima, which might not be the global maximum. This can lead to inaccurate estimates, particularly if the initial guess is close to a local maximum.\n",
        "\n",
        "4. Assumptions of Model:  EM relies on specific assumptions about the underlying data distribution and the relationships between variables. If these assumptions are violated, the estimates can be inaccurate."
      ],
      "metadata": {
        "id": "JkwrrqsvmSfN"
      }
    },
    {
      "cell_type": "markdown",
      "source": [
        "## Task 2\n",
        "\n",
        "Using [recount3](https://rna.recount.bio/), find any available RNA-Seq dataset (only one sample will be enough) with already estimated expressions at the level of gene counts. Re-estimate the expressions with `kallisto` and compare the results (at the gene level)."
      ],
      "metadata": {
        "id": "snfbFKfVrS5M"
      }
    },
    {
      "cell_type": "markdown",
      "source": [
        "Can't find avalible raw data :("
      ],
      "metadata": {
        "id": "ciWYSah4tF5P"
      }
    }
  ],
  "metadata": {
    "colab": {
      "provenance": []
    },
    "kernelspec": {
      "display_name": "Python 3",
      "name": "python3"
    },
    "language_info": {
      "name": "python"
    }
  },
  "nbformat": 4,
  "nbformat_minor": 0
}